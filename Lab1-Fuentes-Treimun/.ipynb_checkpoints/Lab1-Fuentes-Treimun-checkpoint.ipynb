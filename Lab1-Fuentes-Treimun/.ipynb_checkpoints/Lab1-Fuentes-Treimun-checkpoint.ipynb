{
 "cells": [
  {
   "cell_type": "markdown",
   "metadata": {},
   "source": [
    "<center>\n",
    "    <h1> ILI-285 - Computación Científica I  </h1>\n",
    "    <h2> Tarea 1 </h2>\n",
    "    <h2> 5 de abril de 2016</h2>\n",
    "</center>"
   ]
  },
  {
   "cell_type": "markdown",
   "metadata": {},
   "source": [
    "Integrantes: \n",
    "* Roberto Felipe Fuentes Zenteno - 201173037-2 - roberto.fuentes@alumnos.usm.cl \n",
    "* German Marcelo Treimun Costa - 201173085-2 - german.treimun@alumnos.usm.cl"
   ]
  },
  {
   "cell_type": "markdown",
   "metadata": {},
   "source": [
    "## Tabla de contenidos\n",
    "* [Introduccion](#intro)\n",
    "* [Desarrollo y analisis de resultados](#desarrollo)\n",
    "    - [Representacion punto flotante](#seccion1)\n",
    "    - [Pérdida de significancia](#seccion2)\n",
    "* [Conclusiones](#conclusion)\n",
    "* [Referencias](#ref)"
   ]
  },
  {
   "cell_type": "markdown",
   "metadata": {},
   "source": [
    "<div id='intro' />\n",
    "<center>\n",
    "    <h2> Introduccion </h2>\n",
    "</center>"
   ]
  },
  {
   "cell_type": "code",
   "execution_count": 1,
   "metadata": {
    "collapsed": true
   },
   "outputs": [],
   "source": [
    "%matplotlib inline\n",
    "import numpy as np\n",
    "import matplotlib.pyplot as plt\n",
    "import bitstring as bs\n",
    "import math as math"
   ]
  },
  {
   "cell_type": "markdown",
   "metadata": {},
   "source": [
    "<div id='desarrollo' />\n",
    "<center>\n",
    "    <h2> Desarrollo </h2>\n",
    "</center>\n",
    "\n",
    "<div id='seccion1' />\n",
    "\n",
    "## 1 - Representacion punto flotante\n",
    "\n",
    "**a)**\n",
    ">La función `next(x)` se define de la siguiente manera:\n"
   ]
  },
  {
   "cell_type": "code",
   "execution_count": 2,
   "metadata": {
    "collapsed": true
   },
   "outputs": [],
   "source": [
    "def next(f):\n",
    "    #Transformamos el valor a formato maquina\n",
    "    b = bs.pack('>d', f)\n",
    "    #Asignamos a m la mantisa\n",
    "    m = b[12:].uint\n",
    "    #Le sumamos uno, para asi obetener el siguiente numero representable\n",
    "    m += 1\n",
    "    #Ponemos el nuevo valor en la mantisa\n",
    "    b[12:] = m\n",
    "    #Retornamos el valor\n",
    "    return b.float"
   ]
  },
  {
   "cell_type": "markdown",
   "metadata": {},
   "source": [
    "**b)**\n",
    "> El $\\begin{equation} \\epsilon_{\\text{mach}} \\end{equation}$ es la diferencia entre uno y el siguiente número representable, mientras que el valor retornado en la función anterior corresponde al siguiente numero representable (es decir, sumarle uno a la mantisa del numero en punto flotante)."
   ]
  },
  {
   "cell_type": "markdown",
   "metadata": {},
   "source": [
    "**c)** \n",
    ">  Al calcular con la funcion `next(x)` los primeros 1000 valores enteros y graficarlos, tenemos lo siguiente:"
   ]
  },
  {
   "cell_type": "code",
   "execution_count": 3,
   "metadata": {
    "collapsed": false,
    "scrolled": true
   },
   "outputs": [
    {
     "data": {
      "image/png": "[encoded data removed]",
      "text/plain": [
       "<matplotlib.figure.Figure at 0x10a08c470>"
      ]
     },
     "metadata": {},
     "output_type": "display_data"
    }
   ],
   "source": [
    "#Creamos 2 listas, la primera (x) para almacenar los primeros 1000 numeros enteros\n",
    "#La segunda, para almacenar los siguientes numeros representables correspondientes\n",
    "x = []\n",
    "y = []\n",
    "#Llenamos las listas con los respectivos valores\n",
    "for i in range(0,1000):\n",
    "    x.append(i)\n",
    "    y.append(next(i))\n",
    "#graficamos los valores\n",
    "plt.figure(figsize=(8,8))\n",
    "plt.plot(x,y,'.')\n",
    "plt.grid()\n",
    "plt.ylabel('$next(x)$',fontsize=16)\n",
    "plt.xlabel('$x$',fontsize=16)\n",
    "plt.title('x vs next(x)',fontsize=16)\n",
    "plt.show()"
   ]
  },
  {
   "cell_type": "markdown",
   "metadata": {},
   "source": [
    "> Nos damos cuenta de que la grafica nos queda una recta de la forma y = `x + next(x)`, lo cual es muy parecida a la curva `y = x`.\n",
    "Un comportamiento curioso que podemos observar es al momento de calcular los `epsilon` ($e$) de cada tramo. La grafica nos queda de la siguiente manera:"
   ]
  },
  {
   "cell_type": "code",
   "execution_count": 4,
   "metadata": {
    "collapsed": true
   },
   "outputs": [],
   "source": [
    "def epsilon(f):\n",
    "    #Calculamos el siguiente numero representable.\n",
    "    next_float = next(f)\n",
    "    #Restamos el siguiente valor representable con el valor actual, para obetener epsilon.\n",
    "    return next_float - f"
   ]
  },
  {
   "cell_type": "code",
   "execution_count": 5,
   "metadata": {
    "collapsed": false
   },
   "outputs": [
    {
     "data": {
      "image/png": "[encoded data removed]",
      "text/plain": [
       "<matplotlib.figure.Figure at 0x10cd32b70>"
      ]
     },
     "metadata": {},
     "output_type": "display_data"
    }
   ],
   "source": [
    "x = []\n",
    "y = []\n",
    "for i in range(0,1000):\n",
    "    x.append(i)\n",
    "    y.append(epsilon(i))\n",
    "\n",
    "plt.figure(figsize=(8,8))\n",
    "plt.plot(x,y,'.')\n",
    "plt.grid()\n",
    "plt.ylabel('$epsilon(x)$',fontsize=16)\n",
    "plt.xlabel('$x$',fontsize=16)\n",
    "plt.title('x vs epsilon(x)',fontsize=16)\n",
    "plt.show()"
   ]
  },
  {
   "cell_type": "markdown",
   "metadata": {},
   "source": [
    "> Aqui nos damos cuenta de que la grafica nos queda escalonada, ya que para numeros cada vez mas grande, el valor de epsilon se va repitiendo y va en aumento."
   ]
  },
  {
   "cell_type": "markdown",
   "metadata": {},
   "source": [
    "**d)**\n",
    "> Al tranformar $5$ en binario, y $2^{-53}$ a binario, nos queda:\n",
    "$$5 = 101.0000...00 $$\n",
    "$$2^{-53} = 0.0000...01$$\n",
    "Nos queda el siguiente valor: $5 - 2^{-53} = 101.000...0|011$. Si nos damos cuenta, los bits 52 y 53, pero al pasarlo a notacion cientifica, esto queda como $5 - 2^{-53} = +1.01000...0|011$, quedando los bits finales en los espacios 54 y 55, y por truncamiento estos valores se pierde, haciendo que el valor final sea $5$, lo cual no es el valor real."
   ]
  },
  {
   "cell_type": "markdown",
   "metadata": {
    "collapsed": false
   },
   "source": [
    "**e)**\n",
    "> No, ya que $\\begin{equation} \\epsilon_{\\text{mach}} \\end{equation}$ es la distancia entre 1 y el menor numero representable, mientras que el menor numero representable puede ser menor a $\\begin{equation} \\epsilon_{\\text{mach}} \\end{equation}$, en el caso de doble precision este corresponde a $5 \\cdot 10^{-324}$, además si se pueden representar numeros a los cuales se les suma $\\begin{equation} \\epsilon_{\\text{mach}} \\end{equation}$ ya que por ejemplo podemos sumar $\\begin{equation} \\displaystyle \\frac{\\epsilon_{\\text{mach}}}{2} \\end{equation}$ a $1/2$ y sigue siendo siendo representable."
   ]
  },
  {
   "cell_type": "markdown",
   "metadata": {},
   "source": [
    "**f)**\n",
    "\n",
    "> Resolviendo manualmente la primera expresion tenemos:\n",
    "\n",
    "\n",
    "> $\\begin{equation} (2^{53} + (-2^{53}))+ (1 + 0.5 + 0.25)\\end{equation}$ \n",
    "\n",
    "> $\\begin{equation}(1+0.5+0.25) = 1.75 \\end{equation}$ \n",
    "\n",
    "> luego en python nos da:"
   ]
  },
  {
   "cell_type": "code",
   "execution_count": 6,
   "metadata": {
    "collapsed": false
   },
   "outputs": [
    {
     "name": "stdout",
     "output_type": "stream",
     "text": [
      "1.75\n"
     ]
    }
   ],
   "source": [
    "e1 = (2**53 + (- 2**53))+(1+0.5+0.25)\n",
    "print (e1)"
   ]
  },
  {
   "cell_type": "markdown",
   "metadata": {},
   "source": [
    "> luego para la segunda expresion:\n",
    "\n",
    "> $\\begin{equation} (2^{53} + (1 + 0.5 + 0.25)) - 2^{53}\\end{equation}$ \n",
    "\n",
    "> $\\begin{equation}(2^{53}+1.75-2^{53}) = 1.75 \\end{equation}$ \n",
    "\n",
    "> luego en python nos da:"
   ]
  },
  {
   "cell_type": "code",
   "execution_count": 7,
   "metadata": {
    "collapsed": false
   },
   "outputs": [
    {
     "name": "stdout",
     "output_type": "stream",
     "text": [
      "2.0\n"
     ]
    }
   ],
   "source": [
    "e2 = (2**53 + (1+0.5+0.25)) - 2**53\n",
    "print (e2)"
   ]
  },
  {
   "cell_type": "markdown",
   "metadata": {},
   "source": [
    "> Como se observa en la segunda expresion claramente existen diferencias en los resultados aritmeticos con respecto a los calculados computacionalmente, esto se da por el redondeo o truncamiento de ciertas operaciones en sus parentesis."
   ]
  },
  {
   "cell_type": "markdown",
   "metadata": {},
   "source": [
    "<div id='seccion2' />\n",
    "\n",
    "## 2 - Pérdida de significancia"
   ]
  },
  {
   "cell_type": "markdown",
   "metadata": {
    "collapsed": true
   },
   "source": [
    "**a)**\n",
    "> Como se observa en el codigo más abajo, en la iteracion numero 17, el valor de argumento del $log(1-(cos(x)-x))$ se hace cero, esto se debe a que x es muy pequeño al restar $cos(x)-x$ "
   ]
  },
  {
   "cell_type": "code",
   "execution_count": 8,
   "metadata": {
    "collapsed": false
   },
   "outputs": [
    {
     "name": "stdout",
     "output_type": "stream",
     "text": [
      "  P                         Valor del argumento              Valor del log\n",
      "1.000000000000000            0.104995834721974             -2.253834598925993\n",
      "2.000000000000000            0.010049999583335             -4.600182685936282\n",
      "3.000000000000000            0.001000499999958             -6.907255403982139\n",
      "4.000000000000000            0.000100005000000             -9.210290373226554\n",
      "5.000000000000000            0.000010000050000             -11.512920464986866\n",
      "6.000000000000000            0.000001000000500             -13.815510057891194\n",
      "7.000000000000000            0.000000100000005             -16.118095601524640\n",
      "8.000000000000000            0.000000010000000             -18.420680738927608\n",
      "9.000000000000000            0.000000001000000             -20.723265865228342\n",
      "10.000000000000000            0.000000000100000             -23.025850847200090\n",
      "11.000000000000000            0.000000000010000             -25.328435940194137\n",
      "12.000000000000000            0.000000000001000             -27.631043237893358\n",
      "13.000000000000000            0.000000000000100             -29.933295312068765\n",
      "14.000000000000000            0.000000000000010             -32.236990899346836\n",
      "15.000000000000000            0.000000000000001             -34.539575992340879\n",
      "16.000000000000000            0.000000000000000             -36.736800569677101\n",
      "17.000000000000000            0.000000000000000                   Nan\n",
      "18.000000000000000            0.000000000000000                   Nan\n",
      "19.000000000000000            0.000000000000000                   Nan\n",
      "20.000000000000000            0.000000000000000                   Nan\n"
     ]
    }
   ],
   "source": [
    "print (\"  P                         Valor del argumento              Valor del log\")\n",
    "for i in range(1,21):\n",
    "    b = 1 - (math.cos(10**-i) - 10**-i)\n",
    "    if b!=0:\n",
    "        a = math.log(b)\n",
    "        print (\"%1.15f            %1.15f             %1.15f\"%(i,b,a))\n",
    "    else:\n",
    "        print (\"%1.15f            %1.15f                   Nan\"%(i,b))\n",
    "    \n"
   ]
  },
  {
   "cell_type": "markdown",
   "metadata": {
    "collapsed": true
   },
   "source": [
    "> Aqui proponemos multiplicar por un uno conveniente el argumento, siendo este \"$1$\" $= 1+(cos(x) - x)$, quedando como expresion final $sen^{2}(x) + 2xcos(x) - x^{2}$. Luego, observamos los valores obtenidos:"
   ]
  },
  {
   "cell_type": "code",
   "execution_count": 9,
   "metadata": {
    "collapsed": false
   },
   "outputs": [
    {
     "name": "stdout",
     "output_type": "stream",
     "text": [
      "  P                         Valor del argumento              Valor del log\n",
      "1.000000000000000            0.104995834721974             -2.253834598925993\n",
      "2.000000000000000            0.010526064723102             -4.553900743190251\n",
      "3.000000000000000            0.001052631329464             -6.856462221603429\n",
      "4.000000000000000            0.000105263157645             -9.159047079957221\n",
      "5.000000000000000            0.000010526315789             -11.461632170606363\n",
      "6.000000000000000            0.000001052631579             -13.764217263576960\n",
      "7.000000000000000            0.000000105263158             -16.066802356570772\n",
      "8.000000000000000            0.000000010526316             -18.369387449564815\n",
      "9.000000000000000            0.000000001052632             -20.671972542558862\n",
      "10.000000000000000            0.000000000105263             -22.974557635552905\n",
      "11.000000000000000            0.000000000010526             -25.277142728546952\n",
      "12.000000000000000            0.000000000001053             -27.579727821540999\n",
      "13.000000000000000            0.000000000000105             -29.882312914535042\n",
      "14.000000000000000            0.000000000000011             -32.184898007529092\n",
      "15.000000000000000            0.000000000000001             -34.487483100523136\n",
      "16.000000000000000            0.000000000000000             -36.790068193517179\n",
      "17.000000000000000            0.000000000000000             -39.092653286511229\n",
      "18.000000000000000            0.000000000000000             -41.395238379505273\n",
      "19.000000000000000            0.000000000000000             -43.697823472499316\n",
      "20.000000000000000            0.000000000000000             -46.000408565493366\n"
     ]
    }
   ],
   "source": [
    "print (\"  P                         Valor del argumento              Valor del log\")\n",
    "for i in range(1,21):\n",
    "    b = ((math.sin(10**-i))**2 + 2*((10**-i)*(math.cos(10**-i))) - ((10**-i)*(10**-i)))/(1+(math.cos(10**-i)-10**-1))\n",
    "    if b!=0:\n",
    "        a = math.log(b)\n",
    "        print (\"%1.15f            %1.15f             %1.15f\"%(i,b,a))\n",
    "    else:\n",
    "        print (\"%1.15f            %1.15f                   Nan\"%(i,b))\n",
    "    \n",
    "    \n",
    "    "
   ]
  },
  {
   "cell_type": "markdown",
   "metadata": {},
   "source": [
    "**b)**\n",
    ">La diferencia entre estas dos expresiones es que en la primera epxresion $1-(cos(x) - x)$, primero se desarolla\n",
    "lo que esta dentro del parentesis, y luego al resultado se le resta uno, haciendo que a numeros muy pequeños, la expresion se haga $0$. Por otra parte, en la expresion $= 1 - cos(x) + x$, primero se realiza la resta $1-cos(x)$, donde a valores muy pequeños esto se vuelve $0$, haciendo que sobreviva el $x$. A continuacion , se analizan ambas expresiones, y sus errores correspondientes: "
   ]
  },
  {
   "cell_type": "code",
   "execution_count": 10,
   "metadata": {
    "collapsed": false
   },
   "outputs": [
    {
     "name": "stdout",
     "output_type": "stream",
     "text": [
      "\u001b[0;30mP:  1\n",
      "\u001b[0;30mfuncion1: \u001b[0;36mvalor del argumento = 0.10499583472197427    \u001b[0;35mValor del log -2.2538345989259927\n",
      "\u001b[0;30mfuncion1: \u001b[0;36mvalor del argumento = 0.1049958347219743    \u001b[0;35mValor del log -2.2538345989259922\n",
      "\u001b[0;30merror: 4.440892098500626e-16\n",
      "\n",
      "\u001b[0;30mP:  2\n",
      "\u001b[0;30mfuncion1: \u001b[0;36mvalor del argumento = 0.010049999583334746    \u001b[0;35mValor del log -4.600182685936282\n",
      "\u001b[0;30mfuncion1: \u001b[0;36mvalor del argumento = 0.010049999583334737    \u001b[0;35mValor del log -4.600182685936283\n",
      "\u001b[0;30merror: 8.881784197001252e-16\n",
      "\n",
      "\u001b[0;30mP:  3\n",
      "\u001b[0;30mfuncion1: \u001b[0;36mvalor del argumento = 0.0010004999999583264    \u001b[0;35mValor del log -6.9072554039821386\n",
      "\u001b[0;30mfuncion1: \u001b[0;36mvalor del argumento = 0.0010004999999583255    \u001b[0;35mValor del log -6.907255403982139\n",
      "\u001b[0;30merror: 8.881784197001252e-16\n",
      "\n",
      "\u001b[0;30mP:  4\n",
      "\u001b[0;30mfuncion1: \u001b[0;36mvalor del argumento = 0.0001000049999999586    \u001b[0;35mValor del log -9.210290373226554\n",
      "\u001b[0;30mfuncion1: \u001b[0;36mvalor del argumento = 0.00010000499999996962    \u001b[0;35mValor del log -9.210290373226444\n",
      "\u001b[0;30merror: 1.1013412404281553e-13\n",
      "\n",
      "\u001b[0;30mP:  5\n",
      "\u001b[0;30mfuncion1: \u001b[0;36mvalor del argumento = 1.0000049999958627e-05    \u001b[0;35mValor del log -11.512920464986866\n",
      "\u001b[0;30mfuncion1: \u001b[0;36mvalor del argumento = 1.0000050000004138e-05    \u001b[0;35mValor del log -11.512920464982315\n",
      "\u001b[0;30merror: 4.551026222543442e-12\n",
      "\n",
      "\u001b[0;30mP:  6\n",
      "\u001b[0;30mfuncion1: \u001b[0;36mvalor del argumento = 1.000000500073206e-06    \u001b[0;35mValor del log -13.815510057891194\n",
      "\u001b[0;30mfuncion1: \u001b[0;36mvalor del argumento = 1.0000005000444502e-06    \u001b[0;35mValor del log -13.81551005791995\n",
      "\u001b[0;30merror: 2.8755664516211255e-11\n",
      "\n",
      "\u001b[0;30mP:  7\n",
      "\u001b[0;30mfuncion1: \u001b[0;36mvalor del argumento = 1.0000000494336803e-07    \u001b[0;35mValor del log -16.11809560152464\n",
      "\u001b[0;30mfuncion1: \u001b[0;36mvalor del argumento = 1.000000049960036e-07    \u001b[0;35mValor del log -16.118095600998284\n",
      "\u001b[0;30merror: 5.26355847796367e-10\n",
      "\n",
      "\u001b[0;30mP:  8\n",
      "\u001b[0;30mfuncion1: \u001b[0;36mvalor del argumento = 1.0000000050247593e-08    \u001b[0;35mValor del log -18.420680738927608\n",
      "\u001b[0;30mfuncion1: \u001b[0;36mvalor del argumento = 1e-08    \u001b[0;35mValor del log -18.420680743952367\n",
      "\u001b[0;30merror: 5.024759275329416e-09\n",
      "\n",
      "\u001b[0;30mP:  9\n",
      "\u001b[0;30mfuncion1: \u001b[0;36mvalor del argumento = 9.999999717180685e-10    \u001b[0;35mValor del log -20.723265865228342\n",
      "\u001b[0;30mfuncion1: \u001b[0;36mvalor del argumento = 1e-09    \u001b[0;35mValor del log -20.72326583694641\n",
      "\u001b[0;30merror: 2.828193146342528e-08\n",
      "\n",
      "\u001b[0;30mP:  10\n",
      "\u001b[0;30mfuncion1: \u001b[0;36mvalor del argumento = 1.000000082740371e-10    \u001b[0;35mValor del log -23.02585084720009\n",
      "\u001b[0;30mfuncion1: \u001b[0;36mvalor del argumento = 1e-10    \u001b[0;35mValor del log -23.025850929940457\n",
      "\u001b[0;30merror: 8.27403674463767e-08\n",
      "\n",
      "\u001b[0;30mP:  11\n",
      "\u001b[0;30mfuncion1: \u001b[0;36mvalor del argumento = 1.000000082740371e-11    \u001b[0;35mValor del log -25.328435940194137\n",
      "\u001b[0;30mfuncion1: \u001b[0;36mvalor del argumento = 1e-11    \u001b[0;35mValor del log -25.328436022934504\n",
      "\u001b[0;30merror: 8.27403674463767e-08\n",
      "\n",
      "\u001b[0;30mP:  12\n",
      "\u001b[0;30mfuncion1: \u001b[0;36mvalor del argumento = 9.999778782798785e-13    \u001b[0;35mValor del log -27.63104323789336\n",
      "\u001b[0;30mfuncion1: \u001b[0;36mvalor del argumento = 1e-12    \u001b[0;35mValor del log -27.631021115928547\n",
      "\u001b[0;30merror: 2.2121964811105954e-05\n",
      "\n",
      "\u001b[0;30mP:  13\n",
      "\u001b[0;30mfuncion1: \u001b[0;36mvalor del argumento = 1.000310945187266e-13    \u001b[0;35mValor del log -29.933295312068765\n",
      "\u001b[0;30mfuncion1: \u001b[0;36mvalor del argumento = 1e-13    \u001b[0;35mValor del log -29.933606208922594\n",
      "\u001b[0;30merror: 0.0003108968538292345\n",
      "\n",
      "\u001b[0;30mP:  14\n",
      "\u001b[0;30mfuncion1: \u001b[0;36mvalor del argumento = 9.992007221626409e-15    \u001b[0;35mValor del log -32.236990899346836\n",
      "\u001b[0;30mfuncion1: \u001b[0;36mvalor del argumento = 1e-14    \u001b[0;35mValor del log -32.23619130191664\n",
      "\u001b[0;30merror: 0.000799597430194865\n",
      "\n",
      "\u001b[0;30mP:  15\n",
      "\u001b[0;30mfuncion1: \u001b[0;36mvalor del argumento = 9.992007221626409e-16    \u001b[0;35mValor del log -34.53957599234088\n",
      "\u001b[0;30mfuncion1: \u001b[0;36mvalor del argumento = 1e-15    \u001b[0;35mValor del log -34.538776394910684\n",
      "\u001b[0;30merror: 0.000799597430194865\n",
      "\n",
      "\u001b[0;30mP:  16\n",
      "\u001b[0;30mfuncion1: \u001b[0;36mvalor del argumento = 1.1102230246251565e-16    \u001b[0;35mValor del log -36.7368005696771\n",
      "\u001b[0;30mfuncion1: \u001b[0;36mvalor del argumento = 1e-16    \u001b[0;35mValor del log -36.841361487904734\n",
      "\u001b[0;30merror: 0.10456091822763369\n",
      "\n",
      "\u001b[0;30mP:  17\n",
      "\u001b[0;30mfuncion1: \u001b[0;36mvalor del argumento = 0.0    \u001b[0;35mValor del log -36.7368005696771\n",
      "\u001b[0;30mfuncion1: \u001b[0;36mvalor del argumento = 1e-17    \u001b[0;35mValor del log -39.14394658089878\n",
      "\u001b[0;30merror: 2.407146011221677\n",
      "\n",
      "\u001b[0;30mP:  18\n",
      "\u001b[0;30mfuncion1: \u001b[0;36mvalor del argumento = 0.0    \u001b[0;35mValor del log -36.7368005696771\n",
      "\u001b[0;30mfuncion1: \u001b[0;36mvalor del argumento = 1e-18    \u001b[0;35mValor del log -41.44653167389282\n",
      "\u001b[0;30merror: 4.70973110421572\n",
      "\n",
      "\u001b[0;30mP:  19\n",
      "\u001b[0;30mfuncion1: \u001b[0;36mvalor del argumento = 0.0    \u001b[0;35mValor del log -36.7368005696771\n",
      "\u001b[0;30mfuncion1: \u001b[0;36mvalor del argumento = 1e-19    \u001b[0;35mValor del log -43.74911676688687\n",
      "\u001b[0;30merror: 7.0123161972097705\n",
      "\n",
      "\u001b[0;30mP:  20\n",
      "\u001b[0;30mfuncion1: \u001b[0;36mvalor del argumento = 0.0    \u001b[0;35mValor del log -36.7368005696771\n",
      "\u001b[0;30mfuncion1: \u001b[0;36mvalor del argumento = 1e-20    \u001b[0;35mValor del log -46.051701859880914\n",
      "\u001b[0;30merror: 9.314901290203814\n",
      "\n"
     ]
    }
   ],
   "source": [
    "for i in range(1,21):\n",
    "    x = 10**-i\n",
    "    a = 1 - (math.cos(x) - x)\n",
    "    b= 1 - math.cos(x) + x\n",
    "    if a!=0:\n",
    "        c = math.log(a)\n",
    "    if b!=0:\n",
    "        d = math.log(b)\n",
    "    else:\n",
    "        a = \"Nan\"\n",
    "    print (chr(27)+\"[0;30m\"+\"P: \",i)\n",
    "    print (chr(27)+\"[0;30m\"+\"funcion1: \"+chr(27)+\"[0;36m\"+\"valor del argumento =\",a,\"   \"+chr(27)+\"[0;35m\"+\"Valor del log\",c)\n",
    "    print (chr(27)+\"[0;30m\"+\"funcion1: \"+chr(27)+\"[0;36m\"+\"valor del argumento =\",b,\"   \"+chr(27)+\"[0;35m\"+\"Valor del log\",d)\n",
    "    #print (chr(27)+\"[0;36m\"+\"este texto sale azul\")\n",
    "    print (chr(27)+\"[0;30m\"+\"error:\",abs(c-d))\n",
    "    print (\"\")\n",
    "\n"
   ]
  },
  {
   "cell_type": "markdown",
   "metadata": {},
   "source": [
    "> Para mejorar esta expresion, dejaremos la expresion de la siguiente manera: $(1 + x) - cos(x)$. Luego, multiplicaremos \n",
    "por su conjugado: $(1 + x) + cos(x)$. Al hacer esto, el argumento del logaritmo nos queda: \n",
    "$\\displaystyle \\frac{(1+x)^2 - cos^2(x)}{(1 + x) +cos(x)}$. Al desarrollar esto, lo dejaremos de la siguiente forma: \n",
    "$\\displaystyle \\frac{(1 - cos^2(x)) + 2x + x^{2}}{(1 + x) +cos(x)}$. Por identidad trigonmetrica, observamos que finalmente el argumento del logaritmo nos queda como $\\displaystyle \\frac{sin^{2}(x) + 2x + x^{2}}{(1 + x) +cos(x)}$, dejando la expresion totalmente positiva, y evitando los errores de cancelacion. A continuacion observamos los valores obtenidos:"
   ]
  },
  {
   "cell_type": "code",
   "execution_count": 11,
   "metadata": {
    "collapsed": false
   },
   "outputs": [
    {
     "name": "stdout",
     "output_type": "stream",
     "text": [
      "\u001b[0;30mP:  1\n",
      "\u001b[0;30mfuncion1: \u001b[0;36mvalor del argumento = 0.10499583472197427    \u001b[0;35mValor del log -2.2538345989259927\n",
      "\u001b[0;30mfuncion2: \u001b[0;36mvalor del argumento = 0.10499583472197424    \u001b[0;35mValor del log -2.2538345989259927\n",
      "\u001b[0;30merror: 2.7755575615628914e-17\n",
      "\u001b[0;30merror: 2.6434930194254683e-16\n",
      "\n",
      "\u001b[0;30mP:  2\n",
      "\u001b[0;30mfuncion1: \u001b[0;36mvalor del argumento = 0.010049999583334746    \u001b[0;35mValor del log -4.600182685936282\n",
      "\u001b[0;30mfuncion2: \u001b[0;36mvalor del argumento = 0.010049999583334723    \u001b[0;35mValor del log -4.600182685936285\n",
      "\u001b[0;30merror: 2.2551405187698492e-17\n",
      "\u001b[0;30merror: 2.2439210072300954e-15\n",
      "\n",
      "\u001b[0;30mP:  3\n",
      "\u001b[0;30mfuncion1: \u001b[0;36mvalor del argumento = 0.0010004999999583264    \u001b[0;35mValor del log -6.9072554039821386\n",
      "\u001b[0;30mfuncion2: \u001b[0;36mvalor del argumento = 0.0010004999999583333    \u001b[0;35mValor del log -6.9072554039821314\n",
      "\u001b[0;30merror: 6.938893903907228e-18\n",
      "\u001b[0;30merror: 6.935426191100654e-15\n",
      "\n",
      "\u001b[0;30mP:  4\n",
      "\u001b[0;30mfuncion1: \u001b[0;36mvalor del argumento = 0.0001000049999999586    \u001b[0;35mValor del log -9.210290373226554\n",
      "\u001b[0;30mfuncion2: \u001b[0;36mvalor del argumento = 0.00010000499999999581    \u001b[0;35mValor del log -9.210290373226183\n",
      "\u001b[0;30merror: 3.721523957056494e-17\n",
      "\u001b[0;30merror: 3.7213378901621415e-13\n",
      "\n",
      "\u001b[0;30mP:  5\n",
      "\u001b[0;30mfuncion1: \u001b[0;36mvalor del argumento = 1.0000049999958627e-05    \u001b[0;35mValor del log -11.512920464986866\n",
      "\u001b[0;30mfuncion2: \u001b[0;36mvalor del argumento = 1.0000050000000001e-05    \u001b[0;35mValor del log -11.512920464982729\n",
      "\u001b[0;30merror: 4.1374171341583554e-17\n",
      "\u001b[0;30merror: 4.137396447176119e-12\n",
      "\n",
      "\u001b[0;30mP:  6\n",
      "\u001b[0;30mfuncion1: \u001b[0;36mvalor del argumento = 1.000000500073206e-06    \u001b[0;35mValor del log -13.815510057891194\n",
      "\u001b[0;30mfuncion2: \u001b[0;36mvalor del argumento = 1.0000004999999997e-06    \u001b[0;35mValor del log -13.8155100579644\n",
      "\u001b[0;30merror: 7.32063047741106e-17\n",
      "\u001b[0;30merror: 7.320626817097654e-11\n",
      "\n",
      "\u001b[0;30mP:  7\n",
      "\u001b[0;30mfuncion1: \u001b[0;36mvalor del argumento = 1.0000000494336803e-07    \u001b[0;35mValor del log -16.11809560152464\n",
      "\u001b[0;30mfuncion2: \u001b[0;36mvalor del argumento = 1.0000000500000001e-07    \u001b[0;35mValor del log -16.11809560095832\n",
      "\u001b[0;30merror: 5.663198757871208e-17\n",
      "\u001b[0;30merror: 5.663198474711284e-10\n",
      "\n",
      "\u001b[0;30mP:  8\n",
      "\u001b[0;30mfuncion1: \u001b[0;36mvalor del argumento = 1.0000000050247593e-08    \u001b[0;35mValor del log -18.420680738927608\n",
      "\u001b[0;30mfuncion2: \u001b[0;36mvalor del argumento = 1.000000005e-08    \u001b[0;35mValor del log -18.420680738952367\n",
      "\u001b[0;30merror: 2.4759335531059735e-19\n",
      "\u001b[0;30merror: 2.475933540726306e-11\n",
      "\n",
      "\u001b[0;30mP:  9\n",
      "\u001b[0;30mfuncion1: \u001b[0;36mvalor del argumento = 9.999999717180685e-10    \u001b[0;35mValor del log -20.723265865228342\n",
      "\u001b[0;30mfuncion2: \u001b[0;36mvalor del argumento = 1.0000000005000001e-09    \u001b[0;35mValor del log -20.723265836446412\n",
      "\u001b[0;30merror: 2.878193160031251e-17\n",
      "\u001b[0;30merror: 2.8781931585921542e-08\n",
      "\n",
      "\u001b[0;30mP:  10\n",
      "\u001b[0;30mfuncion1: \u001b[0;36mvalor del argumento = 1.000000082740371e-10    \u001b[0;35mValor del log -23.02585084720009\n",
      "\u001b[0;30mfuncion2: \u001b[0;36mvalor del argumento = 1.00000000005e-10    \u001b[0;35mValor del log -23.025850929890456\n",
      "\u001b[0;30merror: 8.269037099655664e-18\n",
      "\u001b[0;30merror: 8.269037099242213e-08\n",
      "\n",
      "\u001b[0;30mP:  11\n",
      "\u001b[0;30mfuncion1: \u001b[0;36mvalor del argumento = 1.000000082740371e-11    \u001b[0;35mValor del log -25.328435940194137\n",
      "\u001b[0;30mfuncion2: \u001b[0;36mvalor del argumento = 1.000000000005e-11    \u001b[0;35mValor del log -25.328436022929502\n",
      "\u001b[0;30merror: 8.273537097897272e-19\n",
      "\u001b[0;30merror: 8.273537097855904e-08\n",
      "\n",
      "\u001b[0;30mP:  12\n",
      "\u001b[0;30mfuncion1: \u001b[0;36mvalor del argumento = 9.999778782798785e-13    \u001b[0;35mValor del log -27.63104323789336\n",
      "\u001b[0;30mfuncion2: \u001b[0;36mvalor del argumento = 1.0000000000005e-12    \u001b[0;35mValor del log -27.63102111592805\n",
      "\u001b[0;30merror: 2.2121720621508145e-17\n",
      "\u001b[0;30merror: 2.2121720621497083e-05\n",
      "\n",
      "\u001b[0;30mP:  13\n",
      "\u001b[0;30mfuncion1: \u001b[0;36mvalor del argumento = 1.000310945187266e-13    \u001b[0;35mValor del log -29.933295312068765\n",
      "\u001b[0;30mfuncion2: \u001b[0;36mvalor del argumento = 1.00000000000005e-13    \u001b[0;35mValor del log -29.933606208922544\n",
      "\u001b[0;30merror: 3.109451872160303e-17\n",
      "\u001b[0;30merror: 0.00031094518721601474\n",
      "\n",
      "\u001b[0;30mP:  14\n",
      "\u001b[0;30mfuncion1: \u001b[0;36mvalor del argumento = 9.992007221626409e-15    \u001b[0;35mValor del log -32.236990899346836\n",
      "\u001b[0;30mfuncion2: \u001b[0;36mvalor del argumento = 1.000000000000005e-14    \u001b[0;35mValor del log -32.236191301916634\n",
      "\u001b[0;30merror: 7.992778373641611e-18\n",
      "\u001b[0;30merror: 0.0007992778373641571\n",
      "\n",
      "\u001b[0;30mP:  15\n",
      "\u001b[0;30mfuncion1: \u001b[0;36mvalor del argumento = 9.992007221626409e-16    \u001b[0;35mValor del log -34.53957599234088\n",
      "\u001b[0;30mfuncion2: \u001b[0;36mvalor del argumento = 1.0000000000000009e-15    \u001b[0;35mValor del log -34.538776394910684\n",
      "\u001b[0;30merror: 7.992778373599802e-19\n",
      "\u001b[0;30merror: 0.0007992778373599795\n",
      "\n",
      "\u001b[0;30mP:  16\n",
      "\u001b[0;30mfuncion1: \u001b[0;36mvalor del argumento = 1.1102230246251565e-16    \u001b[0;35mValor del log -36.7368005696771\n",
      "\u001b[0;30mfuncion2: \u001b[0;36mvalor del argumento = 1e-16    \u001b[0;35mValor del log -36.841361487904734\n",
      "\u001b[0;30merror: 1.1022302462515656e-17\n",
      "\u001b[0;30merror: 0.11022302462515657\n",
      "\n",
      "\u001b[0;30mP:  17\n",
      "\u001b[0;30mfuncion1: \u001b[0;36mvalor del argumento = 0.0    \u001b[0;35mValor del log -36.7368005696771\n",
      "\u001b[0;30mfuncion2: \u001b[0;36mvalor del argumento = 1e-17    \u001b[0;35mValor del log -39.14394658089878\n",
      "\u001b[0;30merror: 1e-17\n",
      "\u001b[0;30merror: 1.0\n",
      "\n",
      "\u001b[0;30mP:  18\n",
      "\u001b[0;30mfuncion1: \u001b[0;36mvalor del argumento = 0.0    \u001b[0;35mValor del log -36.7368005696771\n",
      "\u001b[0;30mfuncion2: \u001b[0;36mvalor del argumento = 1e-18    \u001b[0;35mValor del log -41.44653167389282\n",
      "\u001b[0;30merror: 1e-18\n",
      "\u001b[0;30merror: 1.0\n",
      "\n",
      "\u001b[0;30mP:  19\n",
      "\u001b[0;30mfuncion1: \u001b[0;36mvalor del argumento = 0.0    \u001b[0;35mValor del log -36.7368005696771\n",
      "\u001b[0;30mfuncion2: \u001b[0;36mvalor del argumento = 1e-19    \u001b[0;35mValor del log -43.74911676688687\n",
      "\u001b[0;30merror: 1e-19\n",
      "\u001b[0;30merror: 1.0\n",
      "\n",
      "\u001b[0;30mP:  20\n",
      "\u001b[0;30mfuncion1: \u001b[0;36mvalor del argumento = 0.0    \u001b[0;35mValor del log -36.7368005696771\n",
      "\u001b[0;30mfuncion2: \u001b[0;36mvalor del argumento = 1e-20    \u001b[0;35mValor del log -46.051701859880914\n",
      "\u001b[0;30merror: 1e-20\n",
      "\u001b[0;30merror: 1.0\n",
      "\n"
     ]
    }
   ],
   "source": [
    "for i in range(1,21):\n",
    "    x = 10**-i\n",
    "    a = 1 - (math.cos(x) - x)\n",
    "    b= ((math.sin(x))**2 + 2*x + x**2)/(1+math.cos(x)+x)\n",
    "    if a!=0:\n",
    "        c = math.log(a)\n",
    "    if b!=0:\n",
    "        d = math.log(b)\n",
    "    else:\n",
    "        a = \"Nan\"\n",
    "    print (chr(27)+\"[0;30m\"+\"P: \",i)\n",
    "    print (chr(27)+\"[0;30m\"+\"funcion1: \"+chr(27)+\"[0;36m\"+\"valor del argumento =\",a,\"   \"+chr(27)+\"[0;35m\"+\"Valor del log\",c)\n",
    "    print (chr(27)+\"[0;30m\"+\"funcion2: \"+chr(27)+\"[0;36m\"+\"valor del argumento =\",b,\"   \"+chr(27)+\"[0;35m\"+\"Valor del log\",d)\n",
    "    #print (chr(27)+\"[0;36m\"+\"este texto sale azul\")\n",
    "    print (chr(27)+\"[0;30m\"+\"error:\",abs(a-b))\n",
    "    print (chr(27)+\"[0;30m\"+\"error:\",abs(a-b)/abs(b))\n",
    "    print (\"\")"
   ]
  },
  {
   "cell_type": "markdown",
   "metadata": {},
   "source": [
    "**c)**\n",
    "> Calculamos los errores relativos de ambas expresiones, para luego graficarlas:"
   ]
  },
  {
   "cell_type": "code",
   "execution_count": 12,
   "metadata": {
    "collapsed": false
   },
   "outputs": [
    {
     "name": "stdout",
     "output_type": "stream",
     "text": [
      "0      0.000000000000000\n",
      "1      0.000000000000001\n",
      "2      0.000000000000001\n",
      "3      0.000000000000008\n",
      "4      0.000000000000262\n",
      "5      0.000000000000414\n",
      "6      0.000000000044451\n",
      "7      0.000000000039964\n",
      "8      0.000000005000000\n",
      "9      0.000000000500000\n",
      "10      0.000000000050000\n",
      "11      0.000000000005000\n",
      "12      0.000000000000500\n",
      "13      0.000000000000050\n",
      "14      0.000000000000005\n",
      "15      0.000000000000001\n",
      "16      0.000000000000000\n",
      "17      0.000000000000000\n",
      "18      0.000000000000000\n",
      "19      0.000000000000000\n",
      "20      0.000000000000000\n"
     ]
    },
    {
     "data": {
      "image/png": "[encoded data removed]",
      "text/plain": [
       "<matplotlib.figure.Figure at 0x10cdb0198>"
      ]
     },
     "metadata": {},
     "output_type": "display_data"
    },
    {
     "data": {
      "image/png": "[encoded data removed]",
      "text/plain": [
       "<matplotlib.figure.Figure at 0x10c80d278>"
      ]
     },
     "metadata": {},
     "output_type": "display_data"
    }
   ],
   "source": [
    "#Creamos 2 listas, la primera (x) para almacenar los 20 numeros de la potencia 10^(-p)\n",
    "#La segunda (y), para almacenar los errores relativos correspondientes. \n",
    "\n",
    "#Definimos los las funciones que representaran a la funcion 1 y 2 entregadas, la funcion\n",
    "#valor real que calculara el valor sin error, y el error relativo que por formula es\n",
    "#abs(Valor_computador - valor_real)/abs(valor real)\n",
    "def errorRel(a,b):\n",
    "    error = (abs(a-b))/(abs(b))\n",
    "    return error\n",
    "def funcO1(x):\n",
    "    f1 = 1 - (np.cos(x) - x)\n",
    "    return f1\n",
    "def funcO2(x):\n",
    "    f2 = 1 - np.cos(x) + x\n",
    "    return f2\n",
    "def valorReal(x):\n",
    "    f3 = ((math.sin(x))**2 + 2*x + x**2)/(1+math.cos(x)+x)\n",
    "    return f3\n",
    "x = []\n",
    "y = []\n",
    "#Llenamos las listas con los respectivos valores\n",
    "for i in range(0,21):\n",
    "    xi=10**-i\n",
    "    x.append(i)\n",
    "    y.append(errorRel(funcO1(xi),valorReal(xi)))\n",
    "    print(\"%i      %1.15f\" %(i,errorRel(funcO2(xi),valorReal(xi))))\n",
    "#graficamos los valores\n",
    "plt.figure(figsize=(8,8))\n",
    "plt.plot(x,y,'--')\n",
    "plt.grid()\n",
    "plt.ylabel('Error relativo',fontsize=16)\n",
    "plt.xlabel('$P$',fontsize=16)\n",
    "plt.title('Error relativo (funcion1) v/s P',fontsize=16)\n",
    "plt.show()\n",
    "\n",
    "x2=[]\n",
    "y2=[]\n",
    "for i in range(0,21):\n",
    "    xi=10**-i\n",
    "    x2.append(i)\n",
    "    y2.append(errorRel(funcO2(xi),valorReal(xi)))\n",
    "#graficamos los valores\n",
    "plt.figure(figsize=(8,8))\n",
    "plt.plot(x2,y2,'--')\n",
    "plt.grid()\n",
    "plt.ylabel('Error relativo',fontsize=16)\n",
    "plt.xlabel('$P$',fontsize=16)\n",
    "plt.title('Error relativo (funcion2) v/s P',fontsize=16)\n",
    "plt.show()"
   ]
  },
  {
   "cell_type": "markdown",
   "metadata": {},
   "source": [
    "> Observamos que en la primera grafica, los valores de $p$ en el intevalo $[17,20]$, la grafica se dispara, llegando al valor $1$. Esto sucede porque en la primera funcion ($1 - (cos(x) - x)$), observamos que los valores del argumento se hacen $0$ (lo cual nos lanza un error en el $log$, parte que fue analizada en el item $a)$ ), haciendo que nos quede $\\displaystyle \\frac{\\text{|- valor real|}}{\\text{|valor_real|}}$,lo cual nos da un error de uno."
   ]
  },
  {
   "cell_type": "markdown",
   "metadata": {},
   "source": [
    "**d)**\n",
    "> Segun la deficinion del error relativo, este debe ser claramente menor que o igual que la mitad de $\\epsilon_{\\text{mach}}$, es decir:\n",
    "$\\displaystyle \\frac{\\text{|valor computado - valor real|}}{\\text{|valor_real|}}< \\frac{\\epsilon_{\\text{mach}}}{2} $. Nos damos cuenta que en en la primera expresion esto no se cumple, es mas, los valores desde $p = 17$ a $p = 20$, empiezan a diverger. Por otro lado, la segunda expresion si empieza a converger desde el intervalo mostrado en el grafico."
   ]
  },
  {
   "cell_type": "markdown",
   "metadata": {
    "collapsed": true
   },
   "source": [
    "<div id='conclusion' />\n",
    "<center>\n",
    "    <h2> Conclusiones </h2>\n",
    "</center>\n",
    "\n",
    "\n",
    "En la presente tarea fue posible corroborar las estimaciones propuestas, es decir, notamos que hubo errores en los cálculos hechos por python, que si bien no distaban mucho de lo real, en otro tipo de materias un error así puede ser muy perjudicial para los resultados esperados. Luego, lo anterior tomó más peso, cuando se evaluaba en valores muy pequeños (no 0) en la función estudiada, sin embargo python mostró un error cuando todavía no se hacía muy pequenño. Esto hace importante el estudio de maneras de evitar ese tipo de error."
   ]
  },
  {
   "cell_type": "markdown",
   "metadata": {},
   "source": [
    "<div id='ref' />\n",
    "<center>\n",
    "    <h2> Referencias</h2>\n",
    "</center>\n",
    "\n",
    "Capítulo 0 del libro “Numerical Analysis, 2nd Edition, Timothy Sauer“. Documentación de la libreria ”numpy“ para python, para su uso en la tarea.\n",
    "\n",
    "http://en.wikipedia.org/wiki/Machine_epsilon"
   ]
  },
  {
   "cell_type": "code",
   "execution_count": null,
   "metadata": {
    "collapsed": true
   },
   "outputs": [],
   "source": []
  }
 ],
 "metadata": {
  "kernelspec": {
   "display_name": "Python 3",
   "language": "python",
   "name": "python3"
  },
  "language_info": {
   "codemirror_mode": {
    "name": "ipython",
    "version": 3
   },
   "file_extension": ".py",
   "mimetype": "text/x-python",
   "name": "python",
   "nbconvert_exporter": "python",
   "pygments_lexer": "ipython3",
   "version": "3.5.1"
  }
 },
 "nbformat": 4,
 "nbformat_minor": 0
}
